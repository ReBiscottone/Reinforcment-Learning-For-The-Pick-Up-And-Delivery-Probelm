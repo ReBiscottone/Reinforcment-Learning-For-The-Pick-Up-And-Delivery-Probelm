{
 "cells": [
  {
   "cell_type": "markdown",
   "metadata": {},
   "source": [
    "This is the script used for solving the pick up and delivery probelm (PDP) with reinforcment learning (RL).\n",
    "\n",
    "-- add more description here, explain the capacity constraint and the hardness of the PDP + a general overview of the RL framework. Maybe also something on RNN.\n",
    "\n"
   ]
  },
  {
   "cell_type": "markdown",
   "metadata": {},
   "source": [
    "First, we import useful packages that we will use later on."
   ]
  },
  {
   "cell_type": "code",
   "execution_count": 3,
   "metadata": {},
   "outputs": [],
   "source": [
    "import matplotlib.pyplot as plt\n",
    "\n",
    "import numpy as np \n",
    "import pandas as pd\n",
    "import torch \n",
    "\n",
    "%matplotlib inline"
   ]
  },
  {
   "cell_type": "markdown",
   "metadata": {},
   "source": [
    "Next, we will define some useful parameters"
   ]
  },
  {
   "cell_type": "code",
   "execution_count": 4,
   "metadata": {},
   "outputs": [],
   "source": [
    "random_seed = 1234 #This is just to keep having the same results, so we can confront better\n",
    "number_of_clients = 10 # number of clients to be visited\n",
    "max_demand = 0.5 #max (normalized) demand of a client"
   ]
  },
  {
   "cell_type": "markdown",
   "metadata": {},
   "source": [
    "To Start Easy I make the following assumptions.\n",
    "Some assumptions will be changed later on, some will be justified\n",
    "\n",
    "* The grid is one by one\n",
    "* The depot is always in the middle\n",
    "* also the capacity is normalized\n",
    "* distances are euclidian\n",
    "\n",
    "PS remind Jacopo to explain why the dimension of the grid should equal the maximum travel distance of the vehicle."
   ]
  },
  {
   "cell_type": "markdown",
   "metadata": {},
   "source": [
    "Hereafter we define a function that, given some input, returns a random instance of the PDP (this function will be useful because it will generate all the testing instances)"
   ]
  },
  {
   "cell_type": "code",
   "execution_count": null,
   "metadata": {},
   "outputs": [],
   "source": []
  }
 ],
 "metadata": {
  "kernelspec": {
   "display_name": "Python 3",
   "language": "python",
   "name": "python3"
  },
  "language_info": {
   "codemirror_mode": {
    "name": "ipython",
    "version": 3
   },
   "file_extension": ".py",
   "mimetype": "text/x-python",
   "name": "python",
   "nbconvert_exporter": "python",
   "pygments_lexer": "ipython3",
   "version": "3.7.3"
  }
 },
 "nbformat": 4,
 "nbformat_minor": 2
}
