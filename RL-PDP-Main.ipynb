{
 "cells": [
  {
   "cell_type": "markdown",
   "metadata": {},
   "source": [
    "This is the script used for solving the pick up and delivery probelm (PDP) with reinforcment learning (RL).\n",
    "\n",
    "-- add more description here, explain the capacity constraint and the hardness of the PDP + a general overview of the RL framework. Maybe also something on RNN.\n",
    "\n"
   ]
  },
  {
   "cell_type": "markdown",
   "metadata": {},
   "source": [
    "First, we import useful packages that we will use later on."
   ]
  },
  {
   "cell_type": "code",
   "execution_count": 2,
   "metadata": {},
   "outputs": [],
   "source": [
    "import matplotlib.pyplot as plt\n",
    "\n",
    "import numpy as np \n",
    "import pandas as pd\n",
    "import torch \n",
    "import random\n",
    "\n",
    "%matplotlib inline"
   ]
  },
  {
   "cell_type": "markdown",
   "metadata": {},
   "source": [
    "Next, we will define some useful parameters"
   ]
  },
  {
   "cell_type": "code",
   "execution_count": 4,
   "metadata": {},
   "outputs": [],
   "source": [
    "random_seed = 1234 #This is just to keep having the same results, so we can confront better\n",
    "random.seed(random_seed)\n",
    "number_of_clients = 10 # number of clients to be visited\n",
    "max_demand = 0.5  #max (normalized) demand of a client \n",
    "min_demand = 0.05 #min (normalized) demand of a client"
   ]
  },
  {
   "cell_type": "markdown",
   "metadata": {},
   "source": [
    "To start easy, I made the following assumptions.\n",
    "Some assumptions will be changed later on, some will be justified\n",
    "\n",
    "* The grid is one by one\n",
    "* The depot is always in the middle [0.5,0.5]  (This can be changed by feeding the decoder the position of the depot as first input)\n",
    "* also the capacity is normalized\n",
    "* distances are euclidian\n",
    "\n",
    "plus, there are a few things that are not clear to me with respect to the paper we build on. \n",
    "* Why don't they compare with best know solutions? \n",
    "* How to fit an instance from the literature into something we can use?\n",
    "\n",
    "PS remind Jacopo to explain Katharina why square root of 2 times the dimension of the grid (which is one) should equal the maximum travel distance of the vehicle. SHort answer, doing so, even if you have to pick up something in [0,0] and deliver it in [1,1], it still is feasible.\n",
    "plus we could also add normalized time windows but I have to think more about it because it would make sense to translate the travel distances in time distances and then normalize, but then how do you deal with a constraint on the maximum travel distance of a vehicle? Maybe it's more interesting to consider time windows intead that a constraint on the maximum travel distance."
   ]
  },
  {
   "cell_type": "markdown",
   "metadata": {},
   "source": [
    "Hereafter we define two functions.\n",
    "* the first function, generates a new random client\n",
    "* the second one returns a random instance of the PDP (an istance of PDP is completely defined by its clients given its normalization)\n",
    "\n",
    "these functions will be useful to generate random testing instances"
   ]
  },
  {
   "cell_type": "code",
   "execution_count": 12,
   "metadata": {},
   "outputs": [],
   "source": [
    "class ClientClass:\n",
    "    X_p = None    # cartesian coordinate for the pick up\n",
    "    Y_p = None\n",
    "    X_d = None    # cartesian coordinate for the delivery\n",
    "    Y_d = None\n",
    "    Demand = None\n",
    "    VisitedPickUp = None   # Boolean variables to be used later on\n",
    "    VisitedDelivery = None\n",
    "    \n",
    "    def __init__(self, max_demand, min_demand):\n",
    "        self.X_p = round(random.random(), 2) # the rounding is just to keep 'reasonable' numbers\n",
    "        self.Y_p = round(random.random(), 2)\n",
    "        self.X_d = round(random.random(), 2)\n",
    "        self.Y_d = round(random.random(), 2)\n",
    "        self.Demand = round(random.uniform(min_demand, max_demand),2)\n",
    "        self.VisitedPickUp = False\n",
    "        self.VisitedDelivery = False\n",
    "        \n",
    "def NewInstancePDP(number_of_clients, max_demand, min_demand):\n",
    "    \n",
    "    Clients = []\n",
    "    for i in range(number_of_clients):\n",
    "        Clients.append(ClientClass(max_demand, min_demand))\n",
    "    \n",
    "    return Clients"
   ]
  },
  {
   "cell_type": "markdown",
   "metadata": {},
   "source": [
    "In the next cell we test a greedy policy which always visits the closest node among:\n",
    "* the clients who were not visited yet\n",
    "* the unvisited delivery locations currently in the vehicle\n",
    "\n",
    "To do so, we create other two classes.\n",
    "One class (Route) which keeps information about the (partial) route.\n",
    "The other class (Solution) which collects all the routes belonging to a solution."
   ]
  },
  {
   "cell_type": "code",
   "execution_count": null,
   "metadata": {},
   "outputs": [],
   "source": [
    "class Route:\n",
    "    \n",
    "    Cost = None\n",
    "    ClientsVisited = None\n",
    "    Distance = None\n",
    "    Capacity = None\n",
    "    Route = None\n",
    "    PickedUp = None\n",
    "    \n",
    "    def __init__(self, Clients):\n",
    "        \n",
    "        self.Cost = 0\n",
    "        self.ClientsVisited = []\n",
    "        self.Distance = 0\n",
    "        self.Capacity = 0\n",
    "        self.Route = []\n",
    "        self.PickedUp = None\n",
    "        \n",
    "    def FindGreedyRoute(self, Clients)\n",
    "        \n",
    "        self.Route.append([0.5, 0.5]) # this is the position of the depot\n",
    "        Reachables = self.MaskGreedy()\n",
    "        \n",
    "        while len(Reachables)>0:\n",
    "            \n",
    "            client = select closest\n",
    "            if client not in self.ClientsVisited: # it means it is a pick up\n",
    "                Next = [client.X_p,client.Y_p]\n",
    "                self.ClientsVisited.append(client)\n",
    "                self.Capacity+= client.Demand\n",
    "            else:                                 # while this is a delivery\n",
    "                Next = [client.X_d,client.Y_d]\n",
    "                self.Capacity-= client.Demand\n",
    "            distance = self.ComputeDistance(Route[-1],Next)\n",
    "            self.Route.append(Next)\n",
    "            self.Distance+= distance\n",
    "            Reachables = self.MaskGreedy()\n",
    "            \n",
    "    def ComputeDistance(A,B):\n",
    "        \n",
    "        #round to the second decimal of the second norm of [x_1,y_1]-[x_2,y_2]\n",
    "        return round(numpy.linalg.norm(A-B,2),2)\n",
    "            \n",
    "    def MaskGreedy():\n",
    "        \n",
    "        f\n",
    "        \n",
    "        \n",
    "class Solution:\n",
    "    \n",
    "    Cost = None\n",
    "    Routes = None\n",
    "    Clients = None\n",
    "    ClientsVisited = None\n",
    "    mode = None\n",
    "    NN = None\n",
    "    \n",
    "    def __init__(self, Clients, mode, NN):\n",
    "        self.Clients = Clients\n",
    "        self.ClientsVisited = []\n",
    "        self.Routes = []\n",
    "        self.Cost = 0\n",
    "        self.mode = mode\n",
    "        self.NN = NN\n",
    "        \n",
    "    def solve(self):\n",
    "        \n",
    "        if mode == 'greedy':\n",
    "            return self.solveGreedy()\n",
    "        else:\n",
    "            if NN==0:\n",
    "                print('if you\\'re not solving it greedily, then you need to assign a neural network to NN')\n",
    "                print('this is an error')\n",
    "                error\n",
    "            yetToCome\n",
    "    \n",
    "    def solveGreedy():\n",
    "        \n",
    "        ClientsToVisit = [c for c in Clients and c not in ClientsVisited]\n",
    "        print(len(ClientsToVisit))\n",
    "        stop\n",
    "        while len(ClientsToVisit)>0:\n",
    "            newRoute = RouteClass()\n",
    "            self.Routes.append(newRoute.FindGreedyRoute(ClientsToVisit))\n",
    "            ClientsVisited = ClientsVisited + newRoute.ClientsVisited\n",
    "            ClientsToVisit = [c for c in Clients and c not in ClientsVisited]\n",
    "            print(len(ClientsToVisit))\n",
    "            stop\n",
    "        self.Cost = self.UpdateCost()\n",
    "    \n",
    "    def UpdateCost():\n",
    "        \n",
    "        Cost = sum([r.Cost for r in self.Routes])"
   ]
  },
  {
   "cell_type": "code",
   "execution_count": null,
   "metadata": {},
   "outputs": [],
   "source": [
    "def SolvePDP(Clients, mode, NN=0):\n",
    "    Solution = SolutionClass(Clients, mode, NN=0)\n",
    "    Solution.solve()\n",
    "    \n",
    "    return Solution"
   ]
  },
  {
   "cell_type": "code",
   "execution_count": null,
   "metadata": {},
   "outputs": [],
   "source": [
    "Clients = NewInstancePDP(number_of_clients, max_demand, min_demand)\n",
    "Solution = SolvePDP(Clients, 'greedy')"
   ]
  }
 ],
 "metadata": {
  "kernelspec": {
   "display_name": "Python 3",
   "language": "python",
   "name": "python3"
  },
  "language_info": {
   "codemirror_mode": {
    "name": "ipython",
    "version": 3
   },
   "file_extension": ".py",
   "mimetype": "text/x-python",
   "name": "python",
   "nbconvert_exporter": "python",
   "pygments_lexer": "ipython3",
   "version": "3.7.3"
  }
 },
 "nbformat": 4,
 "nbformat_minor": 2
}
